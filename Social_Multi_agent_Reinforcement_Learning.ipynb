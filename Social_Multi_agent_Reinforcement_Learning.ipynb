{
  "cells": [
    {
      "cell_type": "markdown",
      "metadata": {
        "id": "view-in-github",
        "colab_type": "text"
      },
      "source": [
        "<a href=\"https://colab.research.google.com/github/hamidkhd/Social-Multi-agent-Reinforcement-Learning/blob/main/Social_Multi_agent_Reinforcement_Learning.ipynb\" target=\"_parent\"><img src=\"https://colab.research.google.com/assets/colab-badge.svg\" alt=\"Open In Colab\"/></a>"
      ]
    },
    {
      "cell_type": "markdown",
      "metadata": {
        "id": "ng-tncIk6wbP"
      },
      "source": [
        "### Imports & Install"
      ]
    },
    {
      "cell_type": "code",
      "execution_count": 32,
      "metadata": {
        "id": "kBqdzIoc6gAZ",
        "colab": {
          "base_uri": "https://localhost:8080/"
        },
        "outputId": "cbcd3de6-d53e-495c-cfcc-f37e54185030"
      },
      "outputs": [
        {
          "output_type": "stream",
          "name": "stdout",
          "text": [
            "Drive already mounted at /content/drive; to attempt to forcibly remount, call drive.mount(\"/content/drive\", force_remount=True).\n"
          ]
        }
      ],
      "source": [
        "from google.colab import drive\n",
        "drive.mount('/content/drive')"
      ]
    },
    {
      "cell_type": "code",
      "execution_count": 33,
      "metadata": {
        "id": "XKxmcHnn7MB3"
      },
      "outputs": [],
      "source": [
        "global path\n",
        "global num_runs\n",
        "\n",
        "path = '/content/drive/MyDrive/'\n",
        "\n",
        "num_runs = 1\n",
        "select_agent_to_follow_method = None\n",
        "sarsa_average = False\n",
        "queue_size = 0\n",
        "society_size = 0"
      ]
    },
    {
      "cell_type": "code",
      "execution_count": 34,
      "metadata": {
        "id": "1b49i9Bt7vUX"
      },
      "outputs": [],
      "source": [
        "import gym\n",
        "import numpy as np\n",
        "from numpy import savetxt\n",
        "from numpy import loadtxt\n",
        "import matplotlib.pyplot as plt\n",
        "import sys\n",
        "from abc import ABC, abstractmethod\n",
        "from collections import deque\n",
        "from collections import defaultdict\n",
        "import random\n",
        "import math\n",
        "import csv\n",
        "import pandas as pd\n",
        "import operator\n",
        "from queue import Queue\n",
        "\n",
        "import torch\n",
        "import torch.nn as nn\n",
        "import torch.nn.functional as F\n",
        "import torch.autograd\n",
        "from torch.autograd import Variable\n",
        "import torch.optim as optim\n",
        "from torch.distributions import Normal\n",
        "\n",
        "import tensorflow as tf\n",
        "from tensorflow import keras\n",
        "from tensorflow.keras.models import Sequential\n",
        "from tensorflow.keras.layers import Dense, Activation\n",
        "from tensorflow.keras.optimizers import Adam\n",
        "from tensorflow.keras.metrics import mean_squared_error\n",
        "from matplotlib import pyplot as plt\n",
        "from tensorflow.keras.models import load_model\n",
        "from sklearn.cluster import KMeans\n",
        "from statistics import mean\n",
        "from sklearn.cluster import DBSCAN\n",
        "from sklearn.preprocessing import MinMaxScaler, StandardScaler\n",
        "\n",
        "import warnings\n",
        "warnings.filterwarnings('ignore')"
      ]
    }
  ],
  "metadata": {
    "colab": {
      "collapsed_sections": [
        "ng-tncIk6wbP"
      ],
      "provenance": [],
      "toc_visible": true,
      "include_colab_link": true
    },
    "gpuClass": "standard",
    "kernelspec": {
      "display_name": "Python 3",
      "name": "python3"
    },
    "language_info": {
      "name": "python"
    }
  },
  "nbformat": 4,
  "nbformat_minor": 0
}